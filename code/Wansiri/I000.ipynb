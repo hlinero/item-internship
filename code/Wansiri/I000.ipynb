{
 "cells": [
  {
   "cell_type": "code",
   "execution_count": null,
   "metadata": {},
   "outputs": [],
   "source": [
    "import pandas as pd\n",
    "import numpy as np"
   ]
  },
  {
   "cell_type": "code",
   "execution_count": null,
   "metadata": {},
   "outputs": [],
   "source": [
    "df_all = pd.read_excel('I000.xlsx')\n",
    "df = pd.read_excel('I000.xlsx', header=14, usecols=[0,1]) # usecols --> read specific columns\n",
    "\n",
    "# Add new columns\n",
    "df2 = df.rename(columns={'Economy Name':'Country','Economy Code':'ISO Code'})\n",
    "df2['Source'] = df_all.iloc[7,1] # Extracting multiple rows with index\n",
    "df2['Region'] = \"Region\"\n",
    "df2['Variable'] = \"Variable\"\n",
    "df2['Unit'] = df_all.iloc[6,1]\n",
    "df2['Service'] = df_all.iloc[5,1]\n",
    "\n",
    "df2['Mode'] = df_all.iloc[4,1]\n",
    "df2['Mode'] = df2['Mode'].str.split(\"/\")\n",
    "df2 = df2.explode('Mode') # explode --> transform each element in a list to a row\n",
    "\n",
    "df2['Vehicle Type'] = \"Vehicle Type\"\n",
    "df2['Techbology'] = \"All\"\n",
    "df2['Fuel'] = \"All\"\n",
    "df2['ID'] = \"ID\"\n"
   ]
  },
  {
   "cell_type": "code",
   "execution_count": null,
   "metadata": {},
   "outputs": [],
   "source": [
    "display(df2[['Source','Country','ISO Code','Mode']])\n",
    "# display(df2[['Source','Country','ISO Code','Region','Variable','Unit','Service','Mode','Vehicle Type','Techbology','Fuel','ID']])\n"
   ]
  },
  {
   "cell_type": "code",
   "execution_count": null,
   "metadata": {},
   "outputs": [],
   "source": [
    "#print(I000_df.isna().sum())\n",
    "\n",
    "#group_data = df.groupby([\"Economy Code\", \"Economy Name\"])\n",
    "#display(group_data.sum())\n",
    "\n",
    "#code = I000_df[\"Economy Code\"]\n",
    "#name = I000_df[\"Economy Name\"]"
   ]
  }
 ],
 "metadata": {
  "kernelspec": {
   "display_name": "base",
   "language": "python",
   "name": "python3"
  },
  "language_info": {
   "codemirror_mode": {
    "name": "ipython",
    "version": 3
   },
   "file_extension": ".py",
   "mimetype": "text/x-python",
   "name": "python",
   "nbconvert_exporter": "python",
   "pygments_lexer": "ipython3",
   "version": "3.9.13"
  },
  "orig_nbformat": 4
 },
 "nbformat": 4,
 "nbformat_minor": 2
}
