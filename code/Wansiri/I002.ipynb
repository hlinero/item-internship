{
 "cells": [
  {
   "cell_type": "code",
   "execution_count": null,
   "metadata": {},
   "outputs": [],
   "source": [
    "import pandas as pd\n",
    "import json"
   ]
  },
  {
   "cell_type": "code",
   "execution_count": null,
   "metadata": {},
   "outputs": [],
   "source": [
    "file = open('region.json')\n",
    "data = json.load(file)\n",
    "df_region = pd.DataFrame.from_dict(data[0]).stack().explode()\n",
    "#stack() --> first in last out\n",
    "#explode() --> transform each element in a list to a row\n",
    "\n",
    "df_all = pd.read_excel('I002_TAS_PAT_004.xlsx')\n",
    "df = pd.read_excel('I002_TAS_PAT_004.xlsx', header=14)\n",
    "\n",
    "# Add new columns\n",
    "df2 = df.rename(columns={'Economy Name':'Country','Economy Code':'ISO Code'})\n",
    "df2['Source'] = \"Asian Transport Outlook National Database\"\n",
    "df2['Region'] = \"\"\n",
    "df2['Variable'] = \"Freight (TEU)\"\n",
    "\n",
    "if(df_all.iloc[6,1] == \"million passenger kilometers\"):\n",
    " df2['Unit'] = \"Number\"\n",
    "\n",
    "df2['Service'] = \"Freight\"\n",
    "df2['Mode'] = \"Shipping\"\n",
    "df2['Vehicle Type'] = \"Container\"\n",
    "df2['Technology'] = \"All\"\n",
    "df2['Fuel'] = \"All\"\n",
    "df2['ID'] = \"I002\"\n",
    "\n",
    "df_iso = df2['ISO Code']\n",
    "regions = []\n",
    "\n",
    "for code in df_iso:\n",
    "    for country in pd.Series(df_region.get(code)).index: #returns the value of the item with the specified key\n",
    "        regions.append(country)\n",
    "        \n",
    "df2['Region'][0:51] = regions\n",
    "\n",
    "#df2.to_csv('I002.csv', index=False)"
   ]
  },
  {
   "cell_type": "code",
   "execution_count": null,
   "metadata": {},
   "outputs": [],
   "source": [
    "display(df2\n",
    "[['Source','Country','ISO Code','Region','Variable',\n",
    "'Unit','Service','Mode','Vehicle Type','Technology',\n",
    "'Fuel','ID']],df.iloc[:,2:34]\n",
    ")\n",
    "\n",
    "#df2.to_csv('I002.csv', index=False)"
   ]
  }
 ],
 "metadata": {
  "kernelspec": {
   "display_name": "base",
   "language": "python",
   "name": "python3"
  },
  "language_info": {
   "codemirror_mode": {
    "name": "ipython",
    "version": 3
   },
   "file_extension": ".py",
   "mimetype": "text/x-python",
   "name": "python",
   "nbconvert_exporter": "python",
   "pygments_lexer": "ipython3",
   "version": "3.9.13"
  },
  "orig_nbformat": 4
 },
 "nbformat": 4,
 "nbformat_minor": 2
}
