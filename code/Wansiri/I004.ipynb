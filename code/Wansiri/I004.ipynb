{
 "cells": [
  {
   "cell_type": "code",
   "execution_count": null,
   "metadata": {},
   "outputs": [],
   "source": [
    "import pandas as pd\n",
    "import json"
   ]
  },
  {
   "cell_type": "code",
   "execution_count": null,
   "metadata": {},
   "outputs": [],
   "source": [
    "file = open('region.json')\n",
    "data = json.load(file)\n",
    "df_region = pd.DataFrame.from_dict(data[0]).stack().explode()\n",
    "#stack() --> first in last out\n",
    "#explode() --> transform each element in a list to a row\n",
    "\n",
    "df_all = pd.read_excel('I004_TAS_PAT_013.xlsx')\n",
    "df = pd.read_excel('I004_TAS_PAT_013.xlsx', header=14)\n",
    "\n",
    "# Add new columns\n",
    "df2 = df.rename(columns={'Economy Name':'Country','Economy Code':'ISO Code'})\n",
    "df2['Source'] = \"Asian Transport Outlook National Database\"\n",
    "df2['Region'] = \"\"\n",
    "df2['Variable'] = \"Sales (New Vehicles)\"\n",
    "\n",
    "if(df_all.iloc[6,1] == \"billion revenue passenger kilometers\"):\n",
    " df2['Unit'] = \"10^6 vehicle / yr\"\n",
    "\n",
    "df2['Service'] = \"Freight\"\n",
    "df2['Mode'] = \"Road\"\n",
    "df2['Vehicle Type'] = \"Medium Truck\"\n",
    "df2['Technology'] = \"All\"\n",
    "df2['Fuel'] = \"All\"\n",
    "df2['ID'] = \"I004\"\n",
    "\n",
    "df_iso = df2['ISO Code']\n",
    "regions = []\n",
    "\n",
    "for code in df_iso:\n",
    "    for country in pd.Series(df_region.get(code)).index: #returns the value of the item with the specified key\n",
    "        regions.append(country)\n",
    "        \n",
    "df2['Region'][0:51] = regions"
   ]
  },
  {
   "cell_type": "code",
   "execution_count": null,
   "metadata": {},
   "outputs": [],
   "source": [
    "display(df2\n",
    "[['Source','Country','ISO Code','Region','Variable',\n",
    "'Unit','Service','Mode','Vehicle Type','Technology',\n",
    "'Fuel','ID']],df.iloc[:,2:5]\n",
    ")\n",
    "\n",
    "#df2.to_csv('I004.csv', index=False)"
   ]
  }
 ],
 "metadata": {
  "kernelspec": {
   "display_name": "base",
   "language": "python",
   "name": "python3"
  },
  "language_info": {
   "codemirror_mode": {
    "name": "ipython",
    "version": 3
   },
   "file_extension": ".py",
   "mimetype": "text/x-python",
   "name": "python",
   "nbconvert_exporter": "python",
   "pygments_lexer": "ipython3",
   "version": "3.9.13"
  },
  "orig_nbformat": 4
 },
 "nbformat": 4,
 "nbformat_minor": 2
}
